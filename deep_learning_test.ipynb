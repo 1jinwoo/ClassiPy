{
 "cells": [
  {
   "cell_type": "code",
   "execution_count": 101,
   "metadata": {},
   "outputs": [
    {
     "name": "stdout",
     "output_type": "stream",
     "text": [
      "X train shape: 13068\n"
     ]
    }
   ],
   "source": [
    "# libraries import\n",
    "from keras.models import Sequential\n",
    "from keras import layers\n",
    "from sklearn.feature_extraction.text import CountVectorizer\n",
    "\n",
    "# file import\n",
    "import data_cleaner as dc\n",
    "import model_helper as mh\n",
    "\n",
    "df = dc.clean_item_data()\n",
    "df = dc.cleanup_categoryid(df)\n",
    "\n",
    "# vectorize training input data\n",
    "_X_train, _, _X_test, Y_train, _, Y_test = dc.data_split(df, 0.8, 0, 0.2)\n",
    "vectorizer = CountVectorizer()\n",
    "\n",
    "x_train_list = []\n",
    "x_test_list = []\n",
    "for _, row in _X_train.iterrows():\n",
    "    x_train_list.append(row[0])d\n",
    "\n",
    "for _, row in _X_test.iterrows():\n",
    "    x_test_list.append(row[0])\n",
    "\n",
    "vectorizer.fit(x_train_list)\n",
    "X_train = vectorizer.transform(x_train_list)\n",
    "X_test = vectorizer.transform(x_test_list)\n",
    "\n",
    "# Neural Network\n",
    "print('X train shape: ' + str(X_train.shape[1]))\n",
    "input_dim = X_train.shape[1] # Number of features"
   ]
  },
  {
   "cell_type": "code",
   "execution_count": 137,
   "metadata": {
    "collapsed": true
   },
   "outputs": [],
   "source": [
    "model = Sequential()"
   ]
  },
  {
   "cell_type": "code",
   "execution_count": null,
   "metadata": {},
   "outputs": [
    {
     "name": "stdout",
     "output_type": "stream",
     "text": [
      "Train on 8729 samples, validate on 2217 samples\n",
      "Epoch 1/10\n",
      "8729/8729 [==============================] - 4s 515us/step - loss: 3.6044 - acc: 0.3410 - val_loss: 2.6790 - val_acc: 0.7537\n",
      "Epoch 2/10\n",
      "8729/8729 [==============================] - 3s 356us/step - loss: 2.0525 - acc: 0.6655 - val_loss: 1.4047 - val_acc: 0.8214\n",
      "Epoch 3/10\n",
      "8729/8729 [==============================] - 4s 421us/step - loss: 1.2503 - acc: 0.7820 - val_loss: 0.9539 - val_acc: 0.8412\n",
      "Epoch 4/10\n",
      "8729/8729 [==============================] - 4s 420us/step - loss: 0.8884 - acc: 0.8238 - val_loss: 0.7582 - val_acc: 0.8507\n",
      "Epoch 5/10\n",
      "8729/8729 [==============================] - 4s 484us/step - loss: 0.6855 - acc: 0.8625 - val_loss: 0.6644 - val_acc: 0.8530\n",
      "Epoch 6/10\n",
      "8729/8729 [==============================] - 4s 489us/step - loss: 0.5696 - acc: 0.8810 - val_loss: 0.6106 - val_acc: 0.8566\n",
      "Epoch 7/10\n",
      "8729/8729 [==============================] - 4s 507us/step - loss: 0.4658 - acc: 0.9024 - val_loss: 0.5809 - val_acc: 0.8593\n",
      "Epoch 8/10\n",
      "8729/8729 [==============================] - 3s 389us/step - loss: 0.4158 - acc: 0.9021 - val_loss: 0.5691 - val_acc: 0.8593\n",
      "Epoch 9/10\n",
      "8729/8729 [==============================] - 3s 322us/step - loss: 0.3617 - acc: 0.9189 - val_loss: 0.5561 - val_acc: 0.8561\n",
      "Epoch 10/10\n",
      "8729/8729 [==============================] - 3s 321us/step - loss: 0.3226 - acc: 0.9255 - val_loss: 0.5476 - val_acc: 0.8579\n",
      "_________________________________________________________________\n",
      "Layer (type)                 Output Shape              Param #   \n",
      "=================================================================\n",
      "dense_101 (Dense)            (None, 100)               1306900   \n",
      "_________________________________________________________________\n",
      "dropout_50 (Dropout)         (None, 100)               0         \n",
      "_________________________________________________________________\n",
      "dense_102 (Dense)            (None, 63)                6363      \n",
      "=================================================================\n",
      "Total params: 1,313,263\n",
      "Trainable params: 1,313,263\n",
      "Non-trainable params: 0\n",
      "_________________________________________________________________\n",
      "None\n",
      "Training Accuracy: 0.9639\n",
      "Testing Accuracy:  0.8579\n"
     ]
    }
   ],
   "source": [
    "model.add(layers.Dense(100, input_dim=input_dim, activation='relu'))\n",
    "model.add(layers.Dropout(0.7))\n",
    "model.add(layers.Dense(63, activation='softmax'))\n",
    "model.compile(loss='sparse_categorical_crossentropy',\n",
    "              optimizer='adam',\n",
    "              metrics=['accuracy'])\n",
    "#print(model.summary())\n",
    "history = model.fit(X_train, Y_train,\n",
    "                    epochs=10,\n",
    "                    verbose=1,\n",
    "                    validation_data=(X_test, Y_test),\n",
    "                    batch_size=50)\n",
    "print(model.summary())\n",
    "loss, accuracy = model.evaluate(X_train, Y_train, verbose=False)\n",
    "print(\"Training Accuracy: {:.4f}\".format(accuracy))\n",
    "loss, accuracy = model.evaluate(X_test, Y_test, verbose=False)\n",
    "print(\"Testing Accuracy:  {:.4f}\".format(accuracy))\n",
    "mh.plot_history(history)\n"
   ]
  },
  {
   "cell_type": "code",
   "execution_count": null,
   "metadata": {
    "collapsed": true
   },
   "outputs": [],
   "source": []
  }
 ],
 "metadata": {
  "kernelspec": {
   "display_name": "Python 3",
   "language": "python",
   "name": "python3"
  }
 },
 "nbformat": 4,
 "nbformat_minor": 2
}
