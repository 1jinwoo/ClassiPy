{
 "cells": [
  {
   "cell_type": "code",
   "execution_count": 1,
   "metadata": {},
   "outputs": [
    {
     "name": "stderr",
     "output_type": "stream",
     "text": [
      "Using TensorFlow backend.\n"
     ]
    }
   ],
   "source": [
    "# libraries import\n",
    "from keras.models import Sequential\n",
    "from keras import layers\n",
    "from keras.models import Model\n",
    "import numpy as np\n",
    "from sklearn.feature_extraction.text import CountVectorizer\n",
    "\n",
    "# file import\n",
    "import data_cleaner as dc\n",
    "import model_helper as mh"
   ]
  },
  {
   "cell_type": "code",
   "execution_count": 7,
   "metadata": {},
   "outputs": [],
   "source": [
    "class Model:\n",
    "    def __init__(self, neuron=100, min_df = 0):\n",
    "        self.neuron = neuron\n",
    "        self.df = dc.clean_item_data(0)\n",
    "        return_obj = dc.cleanup_categoryid(self.df)\n",
    "        self.df = return_obj[0]\n",
    "        self.category_dict = return_obj[1]\n",
    "\n",
    "        # vectorize training input data\n",
    "        _X_train, _X_valid, _X_test, self.Y_train, self.Y_valid, self.Y_test = dc.data_split(self.df, 0.65, 0.15, 0.20)\n",
    "        if min_df != 0:\n",
    "            self.vectorizer = CountVectorizer(encoding='latin1', min_df = min_df) # Allow different options (min_df, encoding)\n",
    "        else:\n",
    "            self.vectorizer = CountVectorizer(encoding='latin1') # Allow different options (min_df, encoding)\n",
    "\n",
    "        # convert pandas dataframes to list of strings\n",
    "        x_train_list = []\n",
    "        x_test_list = []\n",
    "        x_valid_list = []\n",
    "        for _, row in _X_train.iterrows():\n",
    "            x_train_list.append(row[0])\n",
    "        for _, row in _X_test.iterrows():\n",
    "            x_test_list.append(row[0])\n",
    "        for _, row in _X_valid.iterrows():\n",
    "            x_valid_list.append(row[0])\n",
    "\n",
    "        self.vectorizer.fit(x_train_list)\n",
    "        self.X_train = self.vectorizer.transform(x_train_list)\n",
    "        self.X_test = self.vectorizer.transform(x_test_list)\n",
    "        self.X_valid = self.vectorizer.transform(x_valid_list)\n",
    "    \n",
    "    def train_model(self):\n",
    "        # Neural Network\n",
    "        input_dim = self.X_train.shape[1] # Number of features\n",
    "        output_dim = self.df['categoryId'].nunique()\n",
    "        model = Sequential()\n",
    "        model.add(layers.Dense(self.neuron, input_dim=input_dim, activation='relu', use_bias=False))\n",
    "        model.add(layers.Dropout(rate=0.6))\n",
    "        model.add(layers.Dropout(rate=0.6))\n",
    "        model.add(layers.Dense(output_dim, activation='softmax'))\n",
    "        model.compile(loss='sparse_categorical_crossentropy',\n",
    "                      optimizer='adam',\n",
    "                      metrics=['accuracy'])\n",
    "        history = model.fit(self.X_train, self.Y_train,\n",
    "                            epochs=4,\n",
    "                            verbose=1,\n",
    "                            validation_data=(self.X_valid, self.Y_valid),\n",
    "                            batch_size=10)\n",
    "        #print(model.summary())\n",
    "\n",
    "        loss, self.train_accuracy = model.evaluate(self.X_train, self.Y_train, verbose=False)\n",
    "        loss, self.test_accuracy = model.evaluate(self.X_test, self.Y_test, verbose=False)\n",
    "        self.model = model\n",
    "        \n",
    "    def get_accuracy(self):\n",
    "        return (round(self.train_accuracy, 4), round(self.test_accuracy, 4))\n",
    "    \n",
    "    \n",
    "    def get_category(self,s):\n",
    "        result = False\n",
    "        s_arr = np.array([s])\n",
    "        vector = self.vectorizer.transform(s_arr)\n",
    "        prediction = self.model.predict_classes(vector)[0]\n",
    "        \n",
    "        for key in category_dict:\n",
    "            if category_dict[key] == prediction:\n",
    "                result = prediction\n",
    "        if result:\n",
    "            return result\n",
    "        else:\n",
    "            raise Exception('Fatal Error: Invalid model prediction')\n",
    "    \n",
    "    def stat(self):\n",
    "        pass"
   ]
  },
  {
   "cell_type": "code",
   "execution_count": 3,
   "metadata": {},
   "outputs": [
    {
     "name": "stderr",
     "output_type": "stream",
     "text": [
      "C:\\Users\\justi\\Anaconda3\\envs\\deeplearning\\lib\\site-packages\\sklearn\\model_selection\\_split.py:2179: FutureWarning: From version 0.21, test_size will always complement train_size unless both are specified.\n",
      "  FutureWarning)\n"
     ]
    }
   ],
   "source": [
    "model = Model()"
   ]
  },
  {
   "cell_type": "code",
   "execution_count": 4,
   "metadata": {},
   "outputs": [
    {
     "name": "stdout",
     "output_type": "stream",
     "text": [
      "Train on 7066 samples, validate on 1663 samples\n",
      "Epoch 1/4\n",
      "7066/7066 [==============================] - 15s 2ms/step - loss: 3.6090 - acc: 0.2104 - val_loss: 2.5452 - val_acc: 0.7192\n",
      "Epoch 2/4\n",
      "7066/7066 [==============================] - 14s 2ms/step - loss: 2.3677 - acc: 0.4424 - val_loss: 1.4934 - val_acc: 0.7895\n",
      "Epoch 3/4\n",
      "7066/7066 [==============================] - 14s 2ms/step - loss: 1.8360 - acc: 0.5401 - val_loss: 1.0934 - val_acc: 0.8184\n",
      "Epoch 4/4\n",
      "7066/7066 [==============================] - 15s 2ms/step - loss: 1.5427 - acc: 0.5957 - val_loss: 0.9059 - val_acc: 0.8268\n"
     ]
    }
   ],
   "source": [
    "model.train_model()"
   ]
  },
  {
   "cell_type": "code",
   "execution_count": 5,
   "metadata": {},
   "outputs": [
    {
     "data": {
      "text/plain": [
       "(0.9169, 0.8489)"
      ]
     },
     "execution_count": 5,
     "metadata": {},
     "output_type": "execute_result"
    }
   ],
   "source": [
    "model.get_accuracy()"
   ]
  },
  {
   "cell_type": "code",
   "execution_count": 6,
   "metadata": {},
   "outputs": [
    {
     "ename": "IndexError",
     "evalue": "invalid index to scalar variable.",
     "output_type": "error",
     "traceback": [
      "\u001b[1;31m---------------------------------------------------------------------------\u001b[0m",
      "\u001b[1;31mIndexError\u001b[0m                                Traceback (most recent call last)",
      "\u001b[1;32m<ipython-input-6-54b9b4d3d96b>\u001b[0m in \u001b[0;36m<module>\u001b[1;34m\u001b[0m\n\u001b[1;32m----> 1\u001b[1;33m \u001b[0mmodel\u001b[0m\u001b[1;33m.\u001b[0m\u001b[0mget_category\u001b[0m\u001b[1;33m(\u001b[0m\u001b[1;34m'toothbrush'\u001b[0m\u001b[1;33m)\u001b[0m\u001b[1;33m\u001b[0m\u001b[1;33m\u001b[0m\u001b[0m\n\u001b[0m",
      "\u001b[1;32m<ipython-input-2-b5c8ebcc32f7>\u001b[0m in \u001b[0;36mget_category\u001b[1;34m(self, s)\u001b[0m\n\u001b[0;32m     61\u001b[0m         \u001b[0ms_arr\u001b[0m \u001b[1;33m=\u001b[0m \u001b[0mnp\u001b[0m\u001b[1;33m.\u001b[0m\u001b[0marray\u001b[0m\u001b[1;33m(\u001b[0m\u001b[1;33m[\u001b[0m\u001b[0ms\u001b[0m\u001b[1;33m]\u001b[0m\u001b[1;33m)\u001b[0m\u001b[1;33m\u001b[0m\u001b[1;33m\u001b[0m\u001b[0m\n\u001b[0;32m     62\u001b[0m         \u001b[0mvector\u001b[0m \u001b[1;33m=\u001b[0m \u001b[0mself\u001b[0m\u001b[1;33m.\u001b[0m\u001b[0mvectorizer\u001b[0m\u001b[1;33m.\u001b[0m\u001b[0mtransform\u001b[0m\u001b[1;33m(\u001b[0m\u001b[0ms_arr\u001b[0m\u001b[1;33m)\u001b[0m\u001b[1;33m\u001b[0m\u001b[1;33m\u001b[0m\u001b[0m\n\u001b[1;32m---> 63\u001b[1;33m         \u001b[0mprediction\u001b[0m \u001b[1;33m=\u001b[0m \u001b[0mself\u001b[0m\u001b[1;33m.\u001b[0m\u001b[0mmodel\u001b[0m\u001b[1;33m.\u001b[0m\u001b[0mpredict_classes\u001b[0m\u001b[1;33m(\u001b[0m\u001b[0mvector\u001b[0m\u001b[1;33m)\u001b[0m\u001b[1;33m[\u001b[0m\u001b[1;36m0\u001b[0m\u001b[1;33m]\u001b[0m\u001b[1;33m[\u001b[0m\u001b[1;36m0\u001b[0m\u001b[1;33m]\u001b[0m\u001b[1;33m\u001b[0m\u001b[1;33m\u001b[0m\u001b[0m\n\u001b[0m\u001b[0;32m     64\u001b[0m \u001b[1;33m\u001b[0m\u001b[0m\n\u001b[0;32m     65\u001b[0m         \u001b[1;32mfor\u001b[0m \u001b[0mkey\u001b[0m \u001b[1;32min\u001b[0m \u001b[0mcategory_dict\u001b[0m\u001b[1;33m:\u001b[0m\u001b[1;33m\u001b[0m\u001b[1;33m\u001b[0m\u001b[0m\n",
      "\u001b[1;31mIndexError\u001b[0m: invalid index to scalar variable."
     ]
    }
   ],
   "source": [
    "model.get_category('toothbrush')"
   ]
  },
  {
   "cell_type": "code",
   "execution_count": null,
   "metadata": {},
   "outputs": [],
   "source": []
  }
 ],
 "metadata": {
  "kernelspec": {
   "display_name": "Python 3",
   "language": "python",
   "name": "python3"
  },
  "language_info": {
   "codemirror_mode": {
    "name": "ipython",
    "version": 3
   },
   "file_extension": ".py",
   "mimetype": "text/x-python",
   "name": "python",
   "nbconvert_exporter": "python",
   "pygments_lexer": "ipython3",
   "version": "3.6.7"
  }
 },
 "nbformat": 4,
 "nbformat_minor": 2
}
