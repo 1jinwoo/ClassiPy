{
 "cells": [
  {
   "cell_type": "code",
   "execution_count": 48,
   "metadata": {},
   "outputs": [],
   "source": [
    "from keras.models import Sequential\n",
    "from keras import layers\n",
    "from sklearn.feature_extraction.text import CountVectorizer\n",
    "from sklearn.linear_model import SGDClassifier\n",
    "from sklearn.pipeline import Pipeline\n",
    "from sklearn.feature_extraction.text import TfidfTransformer\n",
    "from sklearn.model_selection import train_test_split\n",
    "from sklearn.metrics import accuracy_score, confusion_matrix\n",
    "from sklearn.metrics import classification_report\n",
    "# file import\n",
    "import data_cleaner as dc\n",
    "import model_helper as mh\n",
    "\n",
    "df = dc.clean_item_data(0)\n",
    "df = dc.cleanup_categoryid(df)\n"
   ]
  },
  {
   "cell_type": "code",
   "execution_count": 49,
   "metadata": {},
   "outputs": [],
   "source": [
    "X = df.item_title\n",
    "Y = df.categoryId"
   ]
  },
  {
   "cell_type": "code",
   "execution_count": 50,
   "metadata": {},
   "outputs": [],
   "source": [
    "X_train, X_test, Y_train, Y_test = train_test_split(X, Y, test_size=0.5)"
   ]
  },
  {
   "cell_type": "code",
   "execution_count": 51,
   "metadata": {},
   "outputs": [
    {
     "name": "stdout",
     "output_type": "stream",
     "text": [
      "accuracy 0.8099262722531919\n",
      "             precision    recall  f1-score   support\n",
      "\n",
      "          0       0.78      0.91      0.84        88\n",
      "          1       0.78      0.89      0.83        94\n",
      "          2       0.63      0.35      0.45        89\n",
      "          3       0.88      0.68      0.77        92\n",
      "          4       0.61      0.57      0.59        90\n",
      "          5       0.97      0.85      0.90        98\n",
      "          6       0.86      0.77      0.81        87\n",
      "          7       0.91      1.00      0.95        80\n",
      "          8       0.76      0.88      0.82        89\n",
      "          9       0.86      0.89      0.88        83\n",
      "         10       0.87      0.53      0.66        91\n",
      "         11       0.81      0.96      0.88        84\n",
      "         12       0.90      0.90      0.90        79\n",
      "         13       0.90      0.99      0.94        92\n",
      "         14       0.92      0.96      0.94        80\n",
      "         15       0.81      0.87      0.84        92\n",
      "         16       0.83      0.64      0.72        84\n",
      "         17       0.90      0.92      0.91        93\n",
      "         18       0.86      0.86      0.86        86\n",
      "         19       0.82      0.69      0.75        89\n",
      "         20       0.83      0.91      0.87        93\n",
      "         21       0.86      0.96      0.91        83\n",
      "         22       0.92      0.91      0.92        93\n",
      "         23       0.80      0.79      0.80        91\n",
      "         24       0.80      0.79      0.79        98\n",
      "         25       0.57      0.56      0.56        99\n",
      "         26       0.77      0.72      0.75        98\n",
      "         27       0.90      0.97      0.94        98\n",
      "         28       0.90      0.96      0.93        84\n",
      "         29       0.84      0.53      0.65       100\n",
      "         30       0.88      0.89      0.88        97\n",
      "         31       0.87      0.96      0.91        89\n",
      "         32       0.88      0.82      0.85        97\n",
      "         33       0.87      0.98      0.92        99\n",
      "         34       0.62      0.49      0.55        88\n",
      "         35       0.79      0.92      0.85        77\n",
      "         36       0.87      0.78      0.82       102\n",
      "         37       0.68      0.92      0.78        88\n",
      "         38       0.76      0.93      0.84        87\n",
      "         39       0.74      0.56      0.64        88\n",
      "         40       0.70      0.64      0.67        94\n",
      "         41       0.72      0.88      0.79        99\n",
      "         42       0.81      0.79      0.80        77\n",
      "         43       0.70      0.98      0.82        82\n",
      "         44       0.80      0.79      0.80        99\n",
      "         45       0.67      0.80      0.73        79\n",
      "         46       0.84      0.77      0.80       100\n",
      "         47       0.66      0.53      0.59        77\n",
      "         48       0.85      0.98      0.91        97\n",
      "         49       0.87      0.82      0.84        87\n",
      "         50       0.89      0.92      0.90        95\n",
      "         51       0.92      0.92      0.92        90\n",
      "         52       0.91      1.00      0.96        85\n",
      "         53       0.60      0.62      0.61        86\n",
      "         54       0.00      0.00      0.00         0\n",
      "         55       0.77      0.73      0.75        74\n",
      "         56       0.74      0.66      0.70        82\n",
      "         57       0.75      0.95      0.84        85\n",
      "         58       0.88      0.75      0.81        99\n",
      "         59       0.90      0.82      0.86        89\n",
      "         60       0.65      0.62      0.63        94\n",
      "         61       0.93      0.94      0.94        87\n",
      "         62       0.79      0.91      0.84        95\n",
      "\n",
      "avg / total       0.81      0.81      0.80      5561\n",
      "\n"
     ]
    },
    {
     "name": "stderr",
     "output_type": "stream",
     "text": [
      "/Users/sfu/anaconda3/lib/python3.6/site-packages/sklearn/metrics/classification.py:1137: UndefinedMetricWarning: Recall and F-score are ill-defined and being set to 0.0 in labels with no true samples.\n",
      "  'recall', 'true', average, warn_for)\n"
     ]
    }
   ],
   "source": [
    "\n",
    "# vectorize training input data\n",
    "\n",
    "sgd = Pipeline([('vect', CountVectorizer()),\n",
    "                ('tfidf', TfidfTransformer()),\n",
    "                ('clf', SGDClassifier(loss='hinge', penalty='l2',alpha=1e-3, random_state=42, max_iter=5, tol=None)),\n",
    "               ])\n",
    "sgd.fit(X_train, Y_train)\n",
    "\n",
    "Y_pred = sgd.predict(X_test)\n",
    "\n",
    "print('accuracy %s' % accuracy_score(Y_pred, Y_test))\n",
    "print(classification_report(Y_test, Y_pred))\n",
    "\n",
    "#Accuracy 81%"
   ]
  },
  {
   "cell_type": "code",
   "execution_count": null,
   "metadata": {
    "collapsed": true
   },
   "outputs": [],
   "source": []
  }
 ],
 "metadata": {
  "kernelspec": {
   "display_name": "Python 3",
   "language": "python",
   "name": "python3"
  },
  "language_info": {
   "codemirror_mode": {
    "name": "ipython",
    "version": 3
   },
   "file_extension": ".py",
   "mimetype": "text/x-python",
   "name": "python",
   "nbconvert_exporter": "python",
   "pygments_lexer": "ipython3",
   "version": "3.6.3"
  }
 },
 "nbformat": 4,
 "nbformat_minor": 2
}
