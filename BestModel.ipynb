{
 "cells": [
  {
   "cell_type": "code",
   "execution_count": 132,
   "metadata": {},
   "outputs": [],
   "source": [
    "# libraries import\n",
    "from keras.models import Sequential\n",
    "from keras import layers\n",
    "from keras.models import Model\n",
    "import numpy as np\n",
    "from sklearn.feature_extraction.text import CountVectorizer\n",
    "\n",
    "# file import\n",
    "import data_cleaner as dc\n",
    "import model_helper as mh\n",
    "\n",
    "class BestModel:\n",
    "    def __init__(self, neuron=330, min_df = 0):\n",
    "        self.df = dc.clean_item_data(0)\n",
    "        self.df = dc.cleanup_categoryid(self.df)\n",
    "\n",
    "        # vectorize training input data\n",
    "        _X_train, _X_valid, _X_test, Y_train, Y_valid, Y_test = dc.data_split(self.df, 0.65, 0.15, 0.20)\n",
    "        self.vectorizer = CountVectorizer(encoding='latin1', min_df = min_df) # Allow different options (min_df, encoding)\n",
    "\n",
    "        # convert pandas dataframes to list of strings\n",
    "        x_train_list = []\n",
    "        x_test_list = []\n",
    "        x_valid_list = []\n",
    "        for _, row in _X_train.iterrows():\n",
    "            x_train_list.append(row[0])\n",
    "        for _, row in _X_test.iterrows():\n",
    "            x_test_list.append(row[0])\n",
    "        for _, row in _X_valid.iterrows():\n",
    "            x_valid_list.append(row[0])\n",
    "\n",
    "        self.vectorizer.fit(x_train_list)\n",
    "        X_train = self.vectorizer.transform(x_train_list)\n",
    "        X_test = self.vectorizer.transform(x_test_list)\n",
    "        X_valid = self.vectorizer.transform(x_valid_list)\n",
    "\n",
    "        # Neural Network\n",
    "        print('X train shape: ' + str(X_train.shape[1]))\n",
    "        input_dim = X_train.shape[1] # Number of features\n",
    "        output_dim = self.df['categoryId'].nunique()\n",
    "        model = Sequential()\n",
    "        model.add(layers.Dense(neuron, input_dim=input_dim, activation='relu', use_bias=False))\n",
    "        model.add(layers.Dropout(rate=0.6))\n",
    "        model.add(layers.Dropout(rate=0.6))\n",
    "        model.add(layers.Dense(output_dim, activation='softmax'))\n",
    "        model.compile(loss='sparse_categorical_crossentropy',\n",
    "                      optimizer='adam',\n",
    "                      metrics=['accuracy'])\n",
    "        history = model.fit(X_train, Y_train,\n",
    "                            epochs=1,\n",
    "                            verbose=1,\n",
    "                            validation_data=(X_valid, Y_valid),\n",
    "                            batch_size=10)\n",
    "        #print(model.summary())\n",
    "\n",
    "        loss, self.train_accuracy = model.evaluate(X_train, Y_train, verbose=False)\n",
    "        loss, self.test_accuracy = model.evaluate(X_test, Y_test, verbose=False)\n",
    "        self.model = model\n",
    "        \n",
    "    def get_accuracy(self):\n",
    "        return (round(self.train_accuracy, 4), round(self.test_accuracy, 4))\n",
    "    \n",
    "    def get_category(self,s):\n",
    "        s_arr = np.array([s])\n",
    "        vector = self.vectorizer.transform(s_arr) \n",
    "        return self.model.predict_classes(vector)"
   ]
  },
  {
   "cell_type": "code",
   "execution_count": 133,
   "metadata": {},
   "outputs": [
    {
     "name": "stderr",
     "output_type": "stream",
     "text": [
      "/Users/sfu/anaconda3/lib/python3.6/site-packages/sklearn/model_selection/_split.py:2026: FutureWarning: From version 0.21, test_size will always complement train_size unless both are specified.\n",
      "  FutureWarning)\n"
     ]
    },
    {
     "name": "stdout",
     "output_type": "stream",
     "text": [
      "X train shape: 8912\n",
      "Train on 7066 samples, validate on 1663 samples\n",
      "Epoch 1/1\n",
      "7066/7066 [==============================] - 19s 3ms/step - loss: 2.9505 - acc: 0.4363 - val_loss: 1.5240 - val_acc: 0.7625\n"
     ]
    }
   ],
   "source": [
    "bm = BestModel()"
   ]
  },
  {
   "cell_type": "code",
   "execution_count": 134,
   "metadata": {},
   "outputs": [
    {
     "data": {
      "text/plain": [
       "(0.8452, 0.779)"
      ]
     },
     "execution_count": 134,
     "metadata": {},
     "output_type": "execute_result"
    }
   ],
   "source": [
    "bm.get_accuracy()"
   ]
  },
  {
   "cell_type": "code",
   "execution_count": 135,
   "metadata": {},
   "outputs": [
    {
     "data": {
      "text/plain": [
       "array([37])"
      ]
     },
     "execution_count": 135,
     "metadata": {},
     "output_type": "execute_result"
    }
   ],
   "source": [
    "bm.get_category('lamp light battery')"
   ]
  },
  {
   "cell_type": "code",
   "execution_count": null,
   "metadata": {
    "collapsed": true
   },
   "outputs": [],
   "source": []
  }
 ],
 "metadata": {
  "kernelspec": {
   "display_name": "Python 3",
   "language": "python",
   "name": "python3"
  },
  "language_info": {
   "codemirror_mode": {
    "name": "ipython",
    "version": 3
   },
   "file_extension": ".py",
   "mimetype": "text/x-python",
   "name": "python",
   "nbconvert_exporter": "python",
   "pygments_lexer": "ipython3",
   "version": "3.6.3"
  }
 },
 "nbformat": 4,
 "nbformat_minor": 2
}
