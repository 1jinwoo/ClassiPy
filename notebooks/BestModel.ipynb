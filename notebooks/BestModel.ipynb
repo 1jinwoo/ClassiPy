{
 "cells": [
  {
   "cell_type": "code",
   "execution_count": 1,
   "metadata": {},
   "outputs": [
    {
     "name": "stderr",
     "output_type": "stream",
     "text": [
      "Using TensorFlow backend.\n"
     ]
    }
   ],
   "source": [
    "# libraries import\n",
    "from keras.models import Sequential\n",
    "from keras import layers\n",
    "from keras.models import Model\n",
    "import numpy as np\n",
    "from sklearn.feature_extraction.text import CountVectorizer\n",
    "\n",
    "# file import\n",
    "import data_cleaner as dc\n",
    "import model_helper as mh\n",
    "\n",
    "class BestModel:\n",
    "    def __init__(self, neuron=330, min_df = 0):\n",
    "        self.df = dc.clean_item_data(0)\n",
    "        self.df = dc.cleanup_categoryid(self.df)\n",
    "\n",
    "        # vectorize training input data\n",
    "        _X_train, _X_valid, _X_test, Y_train, Y_valid, Y_test = dc.data_split(self.df, 0.65, 0.15, 0.20)\n",
    "        self.vectorizer = CountVectorizer(encoding='latin1', min_df = min_df) # Allow different options (min_df, encoding)\n",
    "\n",
    "        # convert pandas dataframes to list of strings\n",
    "        x_train_list = []\n",
    "        x_test_list = []\n",
    "        x_valid_list = []\n",
    "        for _, row in _X_train.iterrows():\n",
    "            x_train_list.append(row[0])\n",
    "        for _, row in _X_test.iterrows():\n",
    "            x_test_list.append(row[0])\n",
    "        for _, row in _X_valid.iterrows():\n",
    "            x_valid_list.append(row[0])\n",
    "\n",
    "        self.vectorizer.fit(x_train_list)\n",
    "        X_train = self.vectorizer.transform(x_train_list)\n",
    "        X_test = self.vectorizer.transform(x_test_list)\n",
    "        X_valid = self.vectorizer.transform(x_valid_list)\n",
    "\n",
    "        # Neural Network\n",
    "        print('X train shape: ' + str(X_train.shape[1]))\n",
    "        input_dim = X_train.shape[1] # Number of features\n",
    "        output_dim = self.df['categoryId'].nunique()\n",
    "        model = Sequential()\n",
    "        model.add(layers.Dense(neuron, input_dim=input_dim, activation='relu', use_bias=False))\n",
    "        model.add(layers.Dropout(rate=0.6))\n",
    "        model.add(layers.Dropout(rate=0.6))\n",
    "        model.add(layers.Dense(output_dim, activation='softmax'))\n",
    "        model.compile(loss='sparse_categorical_crossentropy',\n",
    "                      optimizer='adam',\n",
    "                      metrics=['accuracy'])\n",
    "        history = model.fit(X_train, Y_train,\n",
    "                            epochs=1,\n",
    "                            verbose=1,\n",
    "                            validation_data=(X_valid, Y_valid),\n",
    "                            batch_size=10)\n",
    "        #print(model.summary())\n",
    "\n",
    "        loss, self.train_accuracy = model.evaluate(X_train, Y_train, verbose=False)\n",
    "        loss, self.test_accuracy = model.evaluate(X_test, Y_test, verbose=False)\n",
    "        self.model = model\n",
    "        \n",
    "    def get_accuracy(self):\n",
    "        return (round(self.train_accuracy, 4), round(self.test_accuracy, 4))\n",
    "    \n",
    "    def get_category(self,s):\n",
    "        s_arr = np.array([s])\n",
    "        vector = self.vectorizer.transform(s_arr) \n",
    "        return self.model.predict_classes(vector)"
   ]
  },
  {
   "cell_type": "code",
   "execution_count": 2,
   "metadata": {},
   "outputs": [
    {
     "ename": "AttributeError",
     "evalue": "'list' object has no attribute 'columns'",
     "output_type": "error",
     "traceback": [
      "\u001b[1;31m---------------------------------------------------------------------------\u001b[0m",
      "\u001b[1;31mAttributeError\u001b[0m                            Traceback (most recent call last)",
      "\u001b[1;32m<ipython-input-2-c7d39d9073ac>\u001b[0m in \u001b[0;36m<module>\u001b[1;34m\u001b[0m\n\u001b[1;32m----> 1\u001b[1;33m \u001b[0mbm\u001b[0m \u001b[1;33m=\u001b[0m \u001b[0mBestModel\u001b[0m\u001b[1;33m(\u001b[0m\u001b[1;33m)\u001b[0m\u001b[1;33m\u001b[0m\u001b[1;33m\u001b[0m\u001b[0m\n\u001b[0m",
      "\u001b[1;32m<ipython-input-1-c3b574262498>\u001b[0m in \u001b[0;36m__init__\u001b[1;34m(self, neuron, min_df)\u001b[0m\n\u001b[0;32m     16\u001b[0m \u001b[1;33m\u001b[0m\u001b[0m\n\u001b[0;32m     17\u001b[0m         \u001b[1;31m# vectorize training input data\u001b[0m\u001b[1;33m\u001b[0m\u001b[1;33m\u001b[0m\u001b[1;33m\u001b[0m\u001b[0m\n\u001b[1;32m---> 18\u001b[1;33m         \u001b[0m_X_train\u001b[0m\u001b[1;33m,\u001b[0m \u001b[0m_X_valid\u001b[0m\u001b[1;33m,\u001b[0m \u001b[0m_X_test\u001b[0m\u001b[1;33m,\u001b[0m \u001b[0mY_train\u001b[0m\u001b[1;33m,\u001b[0m \u001b[0mY_valid\u001b[0m\u001b[1;33m,\u001b[0m \u001b[0mY_test\u001b[0m \u001b[1;33m=\u001b[0m \u001b[0mdc\u001b[0m\u001b[1;33m.\u001b[0m\u001b[0mdata_split\u001b[0m\u001b[1;33m(\u001b[0m\u001b[0mself\u001b[0m\u001b[1;33m.\u001b[0m\u001b[0mdf\u001b[0m\u001b[1;33m,\u001b[0m \u001b[1;36m0.65\u001b[0m\u001b[1;33m,\u001b[0m \u001b[1;36m0.15\u001b[0m\u001b[1;33m,\u001b[0m \u001b[1;36m0.20\u001b[0m\u001b[1;33m)\u001b[0m\u001b[1;33m\u001b[0m\u001b[1;33m\u001b[0m\u001b[0m\n\u001b[0m\u001b[0;32m     19\u001b[0m         \u001b[0mself\u001b[0m\u001b[1;33m.\u001b[0m\u001b[0mvectorizer\u001b[0m \u001b[1;33m=\u001b[0m \u001b[0mCountVectorizer\u001b[0m\u001b[1;33m(\u001b[0m\u001b[0mencoding\u001b[0m\u001b[1;33m=\u001b[0m\u001b[1;34m'latin1'\u001b[0m\u001b[1;33m,\u001b[0m \u001b[0mmin_df\u001b[0m \u001b[1;33m=\u001b[0m \u001b[0mmin_df\u001b[0m\u001b[1;33m)\u001b[0m \u001b[1;31m# Allow different options (min_df, encoding)\u001b[0m\u001b[1;33m\u001b[0m\u001b[1;33m\u001b[0m\u001b[0m\n\u001b[0;32m     20\u001b[0m \u001b[1;33m\u001b[0m\u001b[0m\n",
      "\u001b[1;32m~\\Documents\\ClassiPy\\data_cleaner.py\u001b[0m in \u001b[0;36mdata_split\u001b[1;34m(df, train, valid, test)\u001b[0m\n\u001b[0;32m     87\u001b[0m \u001b[1;33m\u001b[0m\u001b[0m\n\u001b[0;32m     88\u001b[0m     \u001b[1;31m# instantiate variables\u001b[0m\u001b[1;33m\u001b[0m\u001b[1;33m\u001b[0m\u001b[1;33m\u001b[0m\u001b[0m\n\u001b[1;32m---> 89\u001b[1;33m     \u001b[0mcolumn_headers\u001b[0m \u001b[1;33m=\u001b[0m \u001b[0mlist\u001b[0m\u001b[1;33m(\u001b[0m\u001b[0mdf\u001b[0m\u001b[1;33m.\u001b[0m\u001b[0mcolumns\u001b[0m\u001b[1;33m.\u001b[0m\u001b[0mvalues\u001b[0m\u001b[1;33m)\u001b[0m\u001b[1;33m\u001b[0m\u001b[1;33m\u001b[0m\u001b[0m\n\u001b[0m\u001b[0;32m     90\u001b[0m     \u001b[0mX_train\u001b[0m \u001b[1;33m=\u001b[0m \u001b[0mpd\u001b[0m\u001b[1;33m.\u001b[0m\u001b[0mDataFrame\u001b[0m\u001b[1;33m(\u001b[0m\u001b[1;33m)\u001b[0m\u001b[1;33m\u001b[0m\u001b[1;33m\u001b[0m\u001b[0m\n\u001b[0;32m     91\u001b[0m     \u001b[0mX_valid\u001b[0m \u001b[1;33m=\u001b[0m \u001b[0mpd\u001b[0m\u001b[1;33m.\u001b[0m\u001b[0mDataFrame\u001b[0m\u001b[1;33m(\u001b[0m\u001b[1;33m)\u001b[0m\u001b[1;33m\u001b[0m\u001b[1;33m\u001b[0m\u001b[0m\n",
      "\u001b[1;31mAttributeError\u001b[0m: 'list' object has no attribute 'columns'"
     ]
    }
   ],
   "source": [
    "bm = BestModel()"
   ]
  },
  {
   "cell_type": "code",
   "execution_count": null,
   "metadata": {},
   "outputs": [],
   "source": [
    "bm.get_accuracy()"
   ]
  },
  {
   "cell_type": "code",
   "execution_count": null,
   "metadata": {},
   "outputs": [],
   "source": [
    "bm.get_category('lamp light battery')"
   ]
  },
  {
   "cell_type": "code",
   "execution_count": null,
   "metadata": {
    "collapsed": true
   },
   "outputs": [],
   "source": []
  }
 ],
 "metadata": {
  "kernelspec": {
   "display_name": "Python 3",
   "language": "python",
   "name": "python3"
  },
  "language_info": {
   "codemirror_mode": {
    "name": "ipython",
    "version": 3
   },
   "file_extension": ".py",
   "mimetype": "text/x-python",
   "name": "python",
   "nbconvert_exporter": "python",
   "pygments_lexer": "ipython3",
   "version": "3.6.7"
  }
 },
 "nbformat": 4,
 "nbformat_minor": 2
}
