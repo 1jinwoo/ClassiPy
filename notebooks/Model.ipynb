{
 "cells": [
  {
   "cell_type": "code",
   "execution_count": 86,
   "metadata": {},
   "outputs": [],
   "source": [
    "# libraries import\n",
    "from keras.models import Sequential\n",
    "from keras import layers\n",
    "from keras.models import Model\n",
    "import numpy as np\n",
    "from sklearn.feature_extraction.text import CountVectorizer\n",
    "\n",
    "# file import\n",
    "import data_cleaner as dc\n",
    "import model_helper as mh"
   ]
  },
  {
   "cell_type": "code",
   "execution_count": 87,
   "metadata": {},
   "outputs": [],
   "source": [
    "class Model:\n",
    "    def __init__(self, neuron=300, min_df = 0):\n",
    "        self.neuron = neuron\n",
    "        self.df = dc.clean_item_data(0)\n",
    "        return_obj = dc.cleanup_categoryid(self.df)\n",
    "        self.df = return_obj[0]\n",
    "        self.category_dict = return_obj[1]\n",
    "\n",
    "        # vectorize training input data\n",
    "        _X_train, _X_valid, _X_test, self.Y_train, self.Y_valid, self.Y_test = dc.data_split(self.df, 0.65, 0.15, 0.20)\n",
    "        if min_df != 0:\n",
    "            self.vectorizer = CountVectorizer(encoding='latin1', min_df = min_df) # Allow different options (min_df, encoding)\n",
    "        else:\n",
    "            self.vectorizer = CountVectorizer(encoding='latin1') # Allow different options (min_df, encoding)\n",
    "\n",
    "        # convert pandas dataframes to list of strings\n",
    "        x_train_list = []\n",
    "        x_test_list = []\n",
    "        x_valid_list = []\n",
    "        for _, row in _X_train.iterrows():\n",
    "            x_train_list.append(row[0])\n",
    "        for _, row in _X_test.iterrows():\n",
    "            x_test_list.append(row[0])\n",
    "        for _, row in _X_valid.iterrows():\n",
    "            x_valid_list.append(row[0])\n",
    "\n",
    "        self.vectorizer.fit(x_train_list)\n",
    "        self.X_train = self.vectorizer.transform(x_train_list)\n",
    "        self.X_test = self.vectorizer.transform(x_test_list)\n",
    "        self.X_valid = self.vectorizer.transform(x_valid_list)\n",
    "    \n",
    "    def train_model(self):\n",
    "        # Neural Network\n",
    "        input_dim = self.X_train.shape[1] # Number of features\n",
    "        output_dim = self.df['categoryId'].nunique()\n",
    "        model = Sequential()\n",
    "        model.add(layers.Dense(self.neuron, input_dim=input_dim, activation='relu', use_bias=False))\n",
    "        model.add(layers.Dropout(rate=0.6))\n",
    "        model.add(layers.Dropout(rate=0.6))\n",
    "        model.add(layers.Dense(output_dim, activation='softmax'))\n",
    "        model.compile(loss='sparse_categorical_crossentropy',\n",
    "                      optimizer='adam',\n",
    "                      metrics=['accuracy'])\n",
    "        history = model.fit(self.X_train, self.Y_train,\n",
    "                            epochs=4,\n",
    "                            verbose=1,\n",
    "                            validation_data=(self.X_valid, self.Y_valid),\n",
    "                            batch_size=10)\n",
    "        #print(model.summary())\n",
    "\n",
    "        loss, self.train_accuracy = model.evaluate(self.X_train, self.Y_train, verbose=False)\n",
    "        loss, self.test_accuracy = model.evaluate(self.X_test, self.Y_test, verbose=False)\n",
    "        self.model = model\n",
    "        \n",
    "    def get_accuracy(self):\n",
    "        return (round(self.train_accuracy, 4), round(self.test_accuracy, 4))\n",
    "    \n",
    "    \n",
    "    def get_category(self,s):\n",
    "        result = False\n",
    "        s_arr = np.array([s])\n",
    "        vector = self.vectorizer.transform(s_arr)\n",
    "        prediction = self.model.predict_classes(vector)[0]\n",
    "        \n",
    "        for key in self.category_dict:\n",
    "            if self.category_dict[key] == prediction:\n",
    "                result = key\n",
    "        if result:\n",
    "            return result\n",
    "        else:\n",
    "            raise Exception('Fatal Error: Invalid model prediction')\n",
    "    \n",
    "    def stat(self):\n",
    "        pass"
   ]
  },
  {
   "cell_type": "code",
   "execution_count": 88,
   "metadata": {},
   "outputs": [],
   "source": [
    "model = Model()"
   ]
  },
  {
   "cell_type": "code",
   "execution_count": 89,
   "metadata": {},
   "outputs": [
    {
     "name": "stdout",
     "output_type": "stream",
     "text": [
      "Train on 7066 samples, validate on 1663 samples\n",
      "Epoch 1/4\n",
      "7066/7066 [==============================] - 36s 5ms/step - loss: 3.0194 - acc: 0.4277 - val_loss: 1.5470 - val_acc: 0.7769\n",
      "Epoch 2/4\n",
      "7066/7066 [==============================] - 38s 5ms/step - loss: 1.3336 - acc: 0.7358 - val_loss: 0.8623 - val_acc: 0.8286\n",
      "Epoch 3/4\n",
      "7066/7066 [==============================] - 36s 5ms/step - loss: 0.8231 - acc: 0.8222 - val_loss: 0.6863 - val_acc: 0.8425\n",
      "Epoch 4/4\n",
      "7066/7066 [==============================] - 38s 5ms/step - loss: 0.6235 - acc: 0.8556 - val_loss: 0.6188 - val_acc: 0.8467\n"
     ]
    }
   ],
   "source": [
    "model.train_model()"
   ]
  },
  {
   "cell_type": "code",
   "execution_count": 90,
   "metadata": {},
   "outputs": [
    {
     "data": {
      "text/plain": [
       "(0.9449, 0.8516)"
      ]
     },
     "execution_count": 90,
     "metadata": {},
     "output_type": "execute_result"
    }
   ],
   "source": [
    "model.get_accuracy()"
   ]
  },
  {
   "cell_type": "code",
   "execution_count": 97,
   "metadata": {},
   "outputs": [
    {
     "data": {
      "text/plain": [
       "'DVDs and Movies'"
      ]
     },
     "execution_count": 97,
     "metadata": {},
     "output_type": "execute_result"
    }
   ],
   "source": [
    "model.get_category('now reaching more than 98 million homes, is the leading destination for award-winning original series and specials that connect viewers with')"
   ]
  },
  {
   "cell_type": "code",
   "execution_count": null,
   "metadata": {},
   "outputs": [],
   "source": []
  }
 ],
 "metadata": {
  "kernelspec": {
   "display_name": "Python 3",
   "language": "python",
   "name": "python3"
  },
  "language_info": {
   "codemirror_mode": {
    "name": "ipython",
    "version": 3
   },
   "file_extension": ".py",
   "mimetype": "text/x-python",
   "name": "python",
   "nbconvert_exporter": "python",
   "pygments_lexer": "ipython3",
   "version": "3.6.7"
  }
 },
 "nbformat": 4,
 "nbformat_minor": 2
}
